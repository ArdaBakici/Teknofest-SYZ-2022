{
 "cells": [
  {
   "cell_type": "code",
   "execution_count": 8,
   "metadata": {},
   "outputs": [],
   "source": [
    "import os\n",
    "from tqdm import tqdm\n",
    "from glob import glob\n",
    "import dicom2jpg"
   ]
  },
  {
   "cell_type": "code",
   "execution_count": 7,
   "metadata": {},
   "outputs": [],
   "source": [
    "input_folder = \".\\\\input\\\\\"\n",
    "output_folder = \".\\\\inputthreejpg\\\\\""
   ]
  },
  {
   "cell_type": "code",
   "execution_count": 9,
   "metadata": {},
   "outputs": [
    {
     "name": "stdout",
     "output_type": "stream",
     "text": [
      "c:\\Users\\ardab\\Desktop\\Coding\\SYZ\n"
     ]
    },
    {
     "name": "stderr",
     "output_type": "stream",
     "text": [
      "100%|██████████| 94/94 [10:23<00:00,  6.63s/it]\n"
     ]
    }
   ],
   "source": [
    "print(os.getcwd())\n",
    "folders = glob(input_folder + \"*\")\n",
    "for folder in tqdm(folders):\n",
    "    sub_folders = glob(f\"{folder}/*\")\n",
    "    for sub_folder in sub_folders:\n",
    "        target_folder = sub_folder.replace(input_folder, output_folder)\n",
    "        os.makedirs(target_folder, exist_ok=True)\n",
    "        dicom2jpg.dicom2jpg(sub_folder, target_root=target_folder, multiprocessing=True)"
   ]
  }
 ],
 "metadata": {
  "kernelspec": {
   "display_name": "Python 3.9.7 64-bit",
   "language": "python",
   "name": "python3"
  },
  "language_info": {
   "codemirror_mode": {
    "name": "ipython",
    "version": 3
   },
   "file_extension": ".py",
   "mimetype": "text/x-python",
   "name": "python",
   "nbconvert_exporter": "python",
   "pygments_lexer": "ipython3",
   "version": "3.9.7"
  },
  "orig_nbformat": 4,
  "vscode": {
   "interpreter": {
    "hash": "f426f2e07de0045617bceb7b8a57fffa77756c699a9e132fda2811f91e926193"
   }
  }
 },
 "nbformat": 4,
 "nbformat_minor": 2
}
